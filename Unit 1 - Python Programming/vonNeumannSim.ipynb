{
 "cells": [
  {
   "cell_type": "markdown",
   "metadata": {},
   "source": [
    "## Von Neumann architecture simulation"
   ]
  },
  {
   "cell_type": "code",
   "execution_count": 4,
   "metadata": {
    "scrolled": true
   },
   "outputs": [
    {
     "name": "stdout",
     "output_type": "stream",
     "text": [
      "Enter 'READ' to read or 'WRITE' to write \n",
      "READ\n",
      "From which address [0-15] \n",
      "3\n",
      "CPU sends  3  along the ADDRESS bus \n",
      " CPU sets CONTROL bus to  READ \n",
      " Memory sends ' Maggie ' along the DATA bus\n"
     ]
    }
   ],
   "source": [
    "memory = [\"Rick\", \"Shane\", \"Glen\", \"Maggie\", \"\", \"\", \"\", \"\", \"\", \"\", \"\", \"\", \"\", \"\", \"\", \"\"]\n",
    "\n",
    "userInput = input(\"Enter 'READ' to read or 'WRITE' to write \\n\")\n",
    "addressInput = int(input(\"From which address [0-15] \\n\"))    \n",
    "\n",
    "if userInput == \"READ\":\n",
    "    print (\"CPU sends \", addressInput, \" along the ADDRESS bus \\n CPU sets CONTROL bus to \", userInput,\n",
    "           \"\\n Memory sends '\",memory[addressInput], \"' along the DATA bus\")\n",
    "\n",
    "elif userInput == \"WRITE\":\n",
    "    writeInput = input(\"What would you like to store at this location?\")\n",
    "    \n",
    "    ## Set the data value at ADDRESS in memory to the user's input\n",
    "    memory[addressInput] = writeInput\n",
    "    \n",
    "    print (\"CPU sends \", addressInput, \"along the ADDRESS bus. \\n CPU sets CONTROL bus to \", userInput,\n",
    "           \"\\n CPU sends '\", writeInput, \"' along the DATA bus\")\n",
    "    \n",
    "    print (\"This is the contents of ADDRESS \", addressInput, \"\\n\", memory[addressInput])\n",
    "    "
   ]
  },
  {
   "cell_type": "code",
   "execution_count": 6,
   "metadata": {},
   "outputs": [],
   "source": [
    "## The same program using BINARY"
   ]
  },
  {
   "cell_type": "code",
   "execution_count": 2,
   "metadata": {},
   "outputs": [
    {
     "name": "stdout",
     "output_type": "stream",
     "text": [
      "Enter 'READ' to read or 'WRITE' to write \n",
      "WRITE\n",
      "From which address [0-15] \n",
      "9\n",
      "What would you like to store at this location?Hello world\n",
      "CPU sends  0b1001 along the ADDRESS bus. \n",
      " CPU sets CONTROL bus to  WRITE \n",
      " CPU sends ' Hello world ' along the DATA bus\n",
      "This is the content of ADDRESS  0b1001 \n",
      " Hello world\n"
     ]
    }
   ],
   "source": [
    "memory = [\"cat\", \"dog\", \"horse\", \"mouse\", \"\", \"\", \"\", \"\", \"\", \"\", \"\", \"\", \"\", \"\", \"\", \"\"]\n",
    "\n",
    "userInput = input(\"Enter 'READ' to read or 'WRITE' to write \\n\")\n",
    "addressInput = int(input(\"From which address [0-15] \\n\"))   \n",
    "\n",
    "if userInput == \"READ\":\n",
    "    print (\"CPU sends \", bin(addressInput), \" along the ADDRESS bus \\n CPU sets CONTROL bus to \", userInput,\n",
    "           \"\\n Memory sends '\",memory[addressInput], \"' along the DATA bus\")\n",
    "\n",
    "elif userInput == \"WRITE\":\n",
    "    writeInput = input(\"What would you like to store at this location?\")\n",
    "    \n",
    "    memory[addressInput] = writeInput\n",
    "    \n",
    "    print (\"CPU sends \", bin(addressInput), \"along the ADDRESS bus. \\n CPU sets CONTROL bus to \", userInput,\n",
    "           \"\\n CPU sends '\", writeInput, \"' along the DATA bus\")\n",
    "    \n",
    "    print (\"This is the content of ADDRESS \", bin(addressInput), \"\\n\", memory[addressInput])\n",
    "    "
   ]
  },
  {
   "cell_type": "code",
   "execution_count": null,
   "metadata": {},
   "outputs": [],
   "source": []
  },
  {
   "cell_type": "code",
   "execution_count": null,
   "metadata": {},
   "outputs": [],
   "source": []
  }
 ],
 "metadata": {
  "kernelspec": {
   "display_name": "Python 3",
   "language": "python",
   "name": "python3"
  },
  "language_info": {
   "codemirror_mode": {
    "name": "ipython",
    "version": 3
   },
   "file_extension": ".py",
   "mimetype": "text/x-python",
   "name": "python",
   "nbconvert_exporter": "python",
   "pygments_lexer": "ipython3",
   "version": "3.5.2"
  }
 },
 "nbformat": 4,
 "nbformat_minor": 2
}
