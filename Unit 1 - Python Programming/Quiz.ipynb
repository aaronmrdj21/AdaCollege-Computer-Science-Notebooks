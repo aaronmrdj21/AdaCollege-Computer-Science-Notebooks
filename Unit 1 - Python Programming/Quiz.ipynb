{
 "cells": [
  {
   "cell_type": "code",
   "execution_count": null,
   "metadata": {},
   "outputs": [],
   "source": [
    "import csv\n",
    "questionList = []\n",
    "score = 0\n",
    "Question = 0\n",
    "start = input(\"Welcome to the general knowledge quiz, would you like to start? \").lower()\n",
    "if start == \"y\" or start == \"yes\":\n",
    "   try:\n",
    "       with open(\"answers.csv\", \"r\") as f:\n",
    "           reader = csv.reader(f)\n",
    "           for line in reader:\n",
    "               questionList.append(line)\n",
    "           while l < 3:\n",
    "               question = questionList[l][0]\n",
    "               AnswerOne = questionList[l][1]\n",
    "               AnswerTwo = questionList[l][2]\n",
    "               AnswerThree = questionList[l][3] \n",
    "               correct = questionList[l][4]\n",
    "               print(question)\n",
    "               print(\" \")\n",
    "               print(\"1. \" + AnswerOne)\n",
    "               print(\" \")\n",
    "               print(\"2. \" + AnswerTwo)\n",
    "               print(\" \")\n",
    "               print(\"3. \" + AnswerThree)\n",
    "               print(\" \")\n",
    "               outputquestion = input(\"Is the answer 1, 2 or 3? \")\n",
    "               if outputquestion == correct:\n",
    "                   print(\"That's correct!\")\n",
    "                   score = score+1\n",
    "                   Question = Question +1\n",
    "               else:\n",
    "                   print(\"Incorrect!\")\n",
    "                   print(\"Actual anwser = \" + correct)\n",
    "                   Question = Question +1\n",
    "           print(\"Thanks for playing! your score is \" , score)\n",
    "           \n",
    "       \n",
    "   except FileNoteFoundError:\n",
    "       (\"Error file not found!\")\n",
    "else:\n",
    "   print(\"Ok, bye\")"
   ]
  },
  {
   "cell_type": "code",
   "execution_count": null,
   "metadata": {},
   "outputs": [],
   "source": []
  },
  {
   "cell_type": "code",
   "execution_count": null,
   "metadata": {},
   "outputs": [],
   "source": []
  }
 ],
 "metadata": {
  "kernelspec": {
   "display_name": "Python 3",
   "language": "python",
   "name": "python3"
  },
  "language_info": {
   "codemirror_mode": {
    "name": "ipython",
    "version": 3
   },
   "file_extension": ".py",
   "mimetype": "text/x-python",
   "name": "python",
   "nbconvert_exporter": "python",
   "pygments_lexer": "ipython3",
   "version": "3.5.2"
  }
 },
 "nbformat": 4,
 "nbformat_minor": 2
}
