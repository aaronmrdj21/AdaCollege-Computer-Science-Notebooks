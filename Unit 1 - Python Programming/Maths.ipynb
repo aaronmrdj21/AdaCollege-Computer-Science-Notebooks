{
 "cells": [
  {
   "cell_type": "code",
   "execution_count": 5,
   "metadata": {
    "scrolled": true
   },
   "outputs": [],
   "source": [
    "# Python Programming:\n",
    "\n",
    "# High level languages are understood by humans.\n",
    "# Computers / the CPU can only execute machine code.\n",
    "# The translator converts a program in a high level programming language into an equivalent program in machine code.\n",
    "\n",
    "#Translators can be compilers or assemblers. \n",
    "#A compiler translates the complete code before execution.\n",
    "#An interpreter translates the output into an executable file then runs looking for any errors and will display them.\n",
    "\n",
    "\n",
    "#A compiler creates a list of errors after compilation. \n",
    "#An interpreter stops after the first error has been found. \n",
    "#A compiler produces a .exe file to run the programme.\n",
    "#An interpreted program needs the interpreter each time it is run.\n",
    "#A compiled program is translated once.\n",
    "#A interpreted program is translated each time it is run.\n",
    "\n"
   ]
  },
  {
   "cell_type": "code",
   "execution_count": 2,
   "metadata": {},
   "outputs": [
    {
     "data": {
      "text/plain": [
       "5"
      ]
     },
     "execution_count": 2,
     "metadata": {},
     "output_type": "execute_result"
    }
   ],
   "source": [
    "#Floor devision \n",
    "\n",
    "16 // 3"
   ]
  },
  {
   "cell_type": "code",
   "execution_count": 3,
   "metadata": {},
   "outputs": [
    {
     "data": {
      "text/plain": [
       "1"
      ]
     },
     "execution_count": 3,
     "metadata": {},
     "output_type": "execute_result"
    }
   ],
   "source": [
    "#Modulus\n",
    "16 % 3"
   ]
  },
  {
   "cell_type": "code",
   "execution_count": 4,
   "metadata": {},
   "outputs": [
    {
     "data": {
      "text/plain": [
       "40353607"
      ]
     },
     "execution_count": 4,
     "metadata": {},
     "output_type": "execute_result"
    }
   ],
   "source": [
    "#Powers\n",
    "7**9"
   ]
  }
 ],
 "metadata": {
  "kernelspec": {
   "display_name": "Python 3",
   "language": "python",
   "name": "python3"
  },
  "language_info": {
   "codemirror_mode": {
    "name": "ipython",
    "version": 3
   },
   "file_extension": ".py",
   "mimetype": "text/x-python",
   "name": "python",
   "nbconvert_exporter": "python",
   "pygments_lexer": "ipython3",
   "version": "3.5.2"
  }
 },
 "nbformat": 4,
 "nbformat_minor": 2
}
