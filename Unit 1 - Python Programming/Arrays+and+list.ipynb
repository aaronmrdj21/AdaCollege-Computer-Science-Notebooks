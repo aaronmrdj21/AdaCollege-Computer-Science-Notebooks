{
 "cells": [
  {
   "cell_type": "markdown",
   "metadata": {},
   "source": [
    "# Arrays and lists\n"
   ]
  },
  {
   "cell_type": "markdown",
   "metadata": {},
   "source": [
    "## List exercises\n",
    "---\n"
   ]
  },
  {
   "cell_type": "code",
   "execution_count": 2,
   "metadata": {},
   "outputs": [
    {
     "name": "stdout",
     "output_type": "stream",
     "text": [
      "['Josh', 'Ben', 'Lewis']\n",
      "T\n",
      "B\n",
      "N\n",
      "Josh\n",
      "Ken\n",
      "Barbie\n",
      "Alex, Haydn, Mauran, Lewis\n",
      "[16, 13, 12, 15, 14, 12, 11, 20, 5, 12, 19, 12, 12, 17, 12, 12]\n",
      "[16, 13, 12, 15, 14, 12, 11, 20, 12, 19, 12, 12, 17, 12, 12, 7, 7, 7]\n",
      "[16, 13, 12, 15, 14, 12, 20, 12, 19, 12, 12, 17, 12, 12]\n",
      "[16, 13, 12, 15, 14, 12, 11, 20, 12, 19, 12, 12, 17, 12, 12]\n",
      "[16, 13, 15, 14, 11, 20, 19, 17]\n"
     ]
    }
   ],
   "source": [
    "import random\n",
    "\n",
    "names = [\"Josh\", \"Ben\", \"Lewis\"] \n",
    "print(names)\n",
    "\n",
    "##print one from array\n",
    "\n",
    "names2 = [\"Thomas the tank engine\", \"Bob the builder\", \"Noddy\"] \n",
    "for i in range(len(names2)):\n",
    "    print(names2[i][0])\n",
    "\n",
    "#print in reverse\n",
    "\n",
    "names3 = [\"Barbie\", \"Ken\", \"Josh\"] \n",
    "for i in reversed(names3):\n",
    "    print(i)\n",
    "\n",
    "#print seperated by comma's\n",
    "\n",
    "names4 = [\"Mauran\", \"Haydn\", \"Alex\"]  \n",
    "for comma in reversed(names4):  \n",
    "    print(comma, end = \", \" )\n",
    "\n",
    "#print one randomly from list\n",
    "\n",
    "names5 = [\"Lewis\", \"Josh\", \"Lynsey\", \"Paul\"] \n",
    "print(random.choice(names5))\n",
    "\n",
    "#insert into array\n",
    "\n",
    "numbers = [16, 13, 12, 15, 14, 12, 11, 20, 12, 19, 12, 12, 17, 12, 12] \n",
    "numbers.insert(8, 5)\n",
    "print(numbers)\n",
    "\n",
    "#insert into array\n",
    "\n",
    "numbers2 = [16, 13, 12, 15, 14, 12, 11, 20, 12, 19, 12, 12, 17, 12, 12] \n",
    "numbers2.insert(16, 7)\n",
    "numbers2.insert(17, 7)\n",
    "numbers2.insert(18, 7)\n",
    "print(numbers2)\n",
    "\n",
    "#remove from array\n",
    "\n",
    "numbers3 = [16, 13, 12, 15, 14, 12, 11, 20, 12, 19, 12, 12, 17, 12, 12] \n",
    "numbers3.remove(11)\n",
    "print(numbers3)\n",
    "\n",
    "#change position of numbers in array\n",
    "\n",
    "numbers4 = [16, 13, 12, 15, 14, 12, 11, 20, 12, 19, 12, 12, 17, 12, 12] \n",
    "Swap16 = numbers4.index(16)\n",
    "Swap17 = numbers4.index(17) \n",
    "numbers4[Swap16], numbers4[Swap17] = 16, 17\n",
    "print(numbers4)\n",
    "\n",
    " #remove all occurences of a number\n",
    "\n",
    "numbers5 = [16, 13, 12, 15, 14, 12, 11, 20, 12, 19, 12, 12, 17, 12, 12]\n",
    "while 12 in numbers5: numbers5.remove(12)\n",
    "print(numbers5)"
   ]
  },
  {
   "cell_type": "markdown",
   "metadata": {},
   "source": [
    "---\n",
    "## Array excerises"
   ]
  },
  {
   "cell_type": "code",
   "execution_count": 14,
   "metadata": {},
   "outputs": [
    {
     "name": "stdout",
     "output_type": "stream",
     "text": [
      "Insert a letter: P\n",
      "This letters occurance is:\n"
     ]
    }
   ],
   "source": [
    "#letter find\n",
    "word = \"PSEUDOPSEUDOHYPOPARATHYROIDISM\"\n",
    "user = input(\"Insert a letter: \")\n",
    "if user in word:\n",
    "    print(\"This letters occurance is:\")\n",
    "    word.count('P') #change for different letters\n"
   ]
  },
  {
   "cell_type": "code",
   "execution_count": null,
   "metadata": {},
   "outputs": [],
   "source": [
    "#change password strength \n",
    "password = input(\"Enter a password to strengthen\")\n",
    "if \"i\" in password:\n",
    "    new = password.replace(\"i\",  \"1\")\n",
    "    print(new)\n",
    "    \n",
    "elif \"l\" in password:\n",
    "    new = password.replace(\"s\", \"5\")\n",
    "    print(new)\n"
   ]
  },
  {
   "cell_type": "code",
   "execution_count": null,
   "metadata": {},
   "outputs": [],
   "source": []
  },
  {
   "cell_type": "code",
   "execution_count": null,
   "metadata": {},
   "outputs": [],
   "source": []
  }
 ],
 "metadata": {
  "kernelspec": {
   "display_name": "Python 3",
   "language": "python",
   "name": "python3"
  },
  "language_info": {
   "codemirror_mode": {
    "name": "ipython",
    "version": 3
   },
   "file_extension": ".py",
   "mimetype": "text/x-python",
   "name": "python",
   "nbconvert_exporter": "python",
   "pygments_lexer": "ipython3",
   "version": "3.5.2"
  }
 },
 "nbformat": 4,
 "nbformat_minor": 2
}
