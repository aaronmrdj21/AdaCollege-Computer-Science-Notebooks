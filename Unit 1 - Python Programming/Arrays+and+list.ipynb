+{
 + "cells": [
 +  {
 +   "cell_type": "markdown",
 +   "metadata": {},
 +   "source": [
 +    "# Arrays and lists\n"
 +   ]
 +  },
 +  {
 +   "cell_type": "markdown",
 +   "metadata": {},
 +   "source": [
 +    "## List exercises\n",
 +    "---\n"
 +   ]
 +  },
 +  {
 +   "cell_type": "code",
 +   "execution_count": 2,
 +   "metadata": {},
 +   "outputs": [
 +    {
 +     "name": "stdout",
 +     "output_type": "stream",
 +     "text": [
 +      "['Josh', 'Ben', 'Lewis']\n",
 +      "T\n",
 +      "B\n",
 +      "N\n",
 +      "Josh\n",
 +      "Ken\n",
 +      "Barbie\n",
 +      "Alex, Haydn, Mauran, Lewis\n",
 +      "[16, 13, 12, 15, 14, 12, 11, 20, 5, 12, 19, 12, 12, 17, 12, 12]\n",
 +      "[16, 13, 12, 15, 14, 12, 11, 20, 12, 19, 12, 12, 17, 12, 12, 7, 7, 7]\n",
 +      "[16, 13, 12, 15, 14, 12, 20, 12, 19, 12, 12, 17, 12, 12]\n",
 +      "[16, 13, 12, 15, 14, 12, 11, 20, 12, 19, 12, 12, 17, 12, 12]\n",
 +      "[16, 13, 15, 14, 11, 20, 19, 17]\n"
 +     ]
 +    }
 +   ],
 +   "source": [
 +    "import random\n",
 +    "\n",
 +    "names = [\"Josh\", \"Ben\", \"Lewis\"] \n",
 +    "print(names)\n",
 +    "\n",
 +    "##print one from array\n",
 +    "\n",
 +    "names2 = [\"Thomas the tank engine\", \"Bob the builder\", \"Noddy\"] \n",
 +    "for i in range(len(names2)):\n",
 +    "    print(names2[i][0])\n",
 +    "\n",
 +    "#print in reverse\n",
 +    "\n",
 +    "names3 = [\"Barbie\", \"Ken\", \"Josh\"] \n",
 +    "for i in reversed(names3):\n",
 +    "    print(i)\n",
 +    "\n",
 +    "#print seperated by comma's\n",
 +    "\n",
 +    "names4 = [\"Mauran\", \"Haydn\", \"Alex\"]  \n",
 +    "for comma in reversed(names4):  \n",
 +    "    print(comma, end = \", \" )\n",
 +    "\n",
 +    "#print one randomly from list\n",
 +    "\n",
 +    "names5 = [\"Lewis\", \"Josh\", \"Lynsey\", \"Paul\"] \n",
 +    "print(random.choice(names5))\n",
 +    "\n",
 +    "#insert into array\n",
 +    "\n",
 +    "numbers = [16, 13, 12, 15, 14, 12, 11, 20, 12, 19, 12, 12, 17, 12, 12] \n",
 +    "numbers.insert(8, 5)\n",
 +    "print(numbers)\n",
 +    "\n",
 +    "#insert into array\n",
 +    "\n",
 +    "numbers2 = [16, 13, 12, 15, 14, 12, 11, 20, 12, 19, 12, 12, 17, 12, 12] \n",
 +    "numbers2.insert(16, 7)\n",
 +    "numbers2.insert(17, 7)\n",
 +    "numbers2.insert(18, 7)\n",
 +    "print(numbers2)\n",
 +    "\n",
 +    "#remove from array\n",
 +    "\n",
 +    "numbers3 = [16, 13, 12, 15, 14, 12, 11, 20, 12, 19, 12, 12, 17, 12, 12] \n",
 +    "numbers3.remove(11)\n",
 +    "print(numbers3)\n",
 +    "\n",
 +    "#change position of numbers in array\n",
 +    "\n",
 +    "numbers4 = [16, 13, 12, 15, 14, 12, 11, 20, 12, 19, 12, 12, 17, 12, 12] \n",
 +    "Swap16 = numbers4.index(16)\n",
 +    "Swap17 = numbers4.index(17) \n",
 +    "numbers4[Swap16], numbers4[Swap17] = 16, 17\n",
 +    "print(numbers4)\n",
 +    "\n",
 +    " #remove all occurences of a number\n",
 +    "\n",
 +    "numbers5 = [16, 13, 12, 15, 14, 12, 11, 20, 12, 19, 12, 12, 17, 12, 12]\n",
 +    "while 12 in numbers5: numbers5.remove(12)\n",
 +    "print(numbers5)"
 +   ]
 +  },
 +  {
 +   "cell_type": "markdown",
 +   "metadata": {},
 +   "source": [
 +    "---\n",
 +    "## Array excerises"
 +   ]
 +  },
 +  {
 +   "cell_type": "code",
 +   "execution_count": 14,
 +   "metadata": {},
 +   "outputs": [
 +    {
 +     "name": "stdout",
 +     "output_type": "stream",
 +     "text": [
 +      "s appears 3 times in the world pseudopseudohypoparathyroidism.\n"
 +     ]
 +    }
 +   ],
 +   "source": [
 +    "#letter find\n",
 +    "import string\n",
 +    "word = 'pseudopseudohypoparathyroidism'\n",
 +    "freq = 0\n",
 +    "alpha = list(string.ascii_lowercase)\n",
 +    "rc = random.choice(alpha)\n",
 +    "for i in word:\n",
 +    "    if rc == i:\n",
 +    "        freq += 1\n",
 +    "\n",
 +    "if freq == 0:\n",
 +    "    print(\"there is no letter that matches in the word\",rc+\".\")\n",
 +    "else:\n",
 +    "    print(rc,\"appears\",freq,\"times in the world\",word+\".\")\n"
 +   ]
 +  },
 +  {
 +   "cell_type": "code",
 +   "execution_count": 8,
 +   "metadata": {},
 +   "outputs": [
 +    {
 +     "name": "stdout",
 +     "output_type": "stream",
 +     "text": [
 +      "Input password here: hello\n",
 +      "password too short, please try again\n"
 +     ]
 +    }
 +   ],
 +   "source": [
 +    "#change password strength \n",
 +    "def passstrength():\n",
 +    "    A = \"0123456789\"\n",
 +    "    while True:\n",
 +    "        passwd = input(\"Input password here: \")\n",
 +    "        if len(passwd) < 8:\n",
 +    "            print (\"password too short, please try again\")\n",
 +    "        elif all(A.split() not in passwd.split()):\n",
 +    "            print (\"make sure the password has a number in it\")\n",
 +    "        elif all(passwd.split() not in passwd.isupper().split()):\n",
 +    "            print (\"Invalid! please endure there is one UPPERCASE letter\")\n",
 +    "        else:\n",
 +    "            print(\"all good! you password is great and strong\")\n",
 +    "        break\n",
 +    "passstrength()"
 +   ]
 +  },
 +  {
 +   "cell_type": "markdown",
 +   "metadata": {},
 +   "source": [
 +    "# Slicing\n",
 +    "---"
 +   ]
 +  },
 +  {
 +   "cell_type": "markdown",
 +   "metadata": {},
 +   "source": [
 +    "## Printing last name\n",
 +    "---"
 +   ]
 +  },
 +  {
 +   "cell_type": "code",
 +   "execution_count": 15,
 +   "metadata": {},
 +   "outputs": [
 +    {
 +     "name": "stdout",
 +     "output_type": "stream",
 +     "text": [
 +      "['brown', 'fog', 'simon', 'deyre', 'jane', 'perry', 'foreman']\n"
 +     ]
 +    }
 +   ],
 +   "source": [
 +    "name =['josh,brown', 'lewis,fog', 'barry,simon', 'daniel,deyre', 'william,jane', 'fred,perry', 'jay,foreman']\n",
 +    "firstName = []\n",
 +    "surName = []\n",
 +    "\n",
 +    "for i in range (len(name)):\n",
 +    "    x,y=name[i].split(',')\n",
 +    "    firstName.append(x)\n",
 +    "    surName.append(y)\n",
 +    "print (surName)"
 +   ]
 +  },
 +  {
 +   "cell_type": "markdown",
 +   "metadata": {},
 +   "source": [
 +    "## Printing both\n",
 +    "---"
 +   ]
 +  },
 +  {
 +   "cell_type": "code",
 +   "execution_count": 16,
 +   "metadata": {},
 +   "outputs": [
 +    {
 +     "name": "stdout",
 +     "output_type": "stream",
 +     "text": [
 +      "['josh', 'lewis', 'barry', 'daniel', 'william', 'fred', 'jay', 'josh', 'lewis', 'barry', 'daniel', 'william', 'fred', 'jay']\n"
 +     ]
 +    }
 +   ],
 +   "source": [
 +    "for i in range (len(name)):\n",
 +    "    x,y=name[i].split(',')\n",
 +    "    firstName.append(x)\n",
 +    "    surName.append(y)\n",
 +    "print (firstName)"
 +   ]
 +  },
 +  {
 +   "cell_type": "code",
 +   "execution_count": null,
 +   "metadata": {},
 +   "outputs": [],
 +   "source": []
 +  }
 + ],
 + "metadata": {
 +  "kernelspec": {
 +   "display_name": "Python 3",
 +   "language": "python",
 +   "name": "python3"
 +  },
 +  "language_info": {
 +   "codemirror_mode": {
 +    "name": "ipython",
 +    "version": 3
 +   },
 +   "file_extension": ".py",
 +   "mimetype": "text/x-python",
 +   "name": "python",
 +   "nbconvert_exporter": "python",
 +   "pygments_lexer": "ipython3",
 +   "version": "3.5.2"
 +  }
 + },
 + "nbformat": 4,
 + "nbformat_minor": 2
 +}
