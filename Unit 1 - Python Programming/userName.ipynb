{
 "cells": [
  {
   "cell_type": "markdown",
   "metadata": {},
   "source": [
    "# User name creator "
   ]
  },
  {
   "cell_type": "markdown",
   "metadata": {},
   "source": [
    "## Instructions:\n",
    "---"
   ]
  },
  {
   "cell_type": "code",
   "execution_count": null,
   "metadata": {},
   "outputs": [],
   "source": [
    "## Creating a Username (Python)\n",
    "\n",
    "## Consider making a flowchart of this program before programming it.\n",
    "\n",
    "## First ask the user if they are Male or Female (or identifies as neither).\n",
    "\n",
    "## Then ask the user for their First Name and their Last Name.\n",
    "\n",
    "## If the user is a male: The username that should be generated will be the first two letters of their first name, and the first three letters of their second name. \n",
    "\n",
    "## If the user is a female: The username that should be generated will be the first three letters of their first name, and the last two letters of their last name.\n",
    "\n",
    "## If the user identifies as neither: The username that should be generated will be the first letter of their first name, and the whole of their second name.\n",
    "\n",
    "## Extension\n",
    "\n",
    "## Edit the program so that many usernames can be added (one after the other) and stored in a list. (What loop will you need)\n",
    "\n",
    "## Once you are satisfied that all the usernames are added, print the list in reverse alphabetical order.\n"
   ]
  },
  {
   "cell_type": "code",
   "execution_count": 1,
   "metadata": {},
   "outputs": [
    {
     "name": "stdout",
     "output_type": "stream",
     "text": [
      "ad\n"
     ]
    }
   ],
   "source": [
    "## What does this piece of code do?\n",
    "##This peice of code takes the value of the string str1 and splits it from 0 to 2 and prints out that split.\n",
    "\n",
    "str1 = \"ada college\"\n",
    "\n",
    "str2 = str1[0:2]\n",
    "\n",
    "print (str2)"
   ]
  },
  {
   "cell_type": "code",
   "execution_count": 2,
   "metadata": {},
   "outputs": [
    {
     "name": "stdout",
     "output_type": "stream",
     "text": [
      "Input a string \n",
      "hello\n",
      "hello\n"
     ]
    }
   ],
   "source": [
    "## Taking an input and storing it as a variable\n",
    "\n",
    "str3 = input(\"Input a string \\n\")\n",
    "\n",
    "print (str3)\n"
   ]
  },
  {
   "cell_type": "markdown",
   "metadata": {},
   "source": [
    "## My code\n",
    "---"
   ]
  },
  {
   "cell_type": "code",
   "execution_count": 18,
   "metadata": {},
   "outputs": [
    {
     "name": "stdout",
     "output_type": "stream",
     "text": [
      "Please input your gender: male\n",
      "What is your first name?Josh\n",
      "What is your last name?Brown\n",
      "Welcome! Your username is: JoBro\n"
     ]
    }
   ],
   "source": [
    "gender = input(\"Please input your gender: \").lower()\n",
    "\n",
    "if gender == \"male\":\n",
    "    M_firstname = input(\"What is your first name?\")\n",
    "    firstname_split =  M_firstname[0:2]\n",
    "    M_lastname = input(\"What is your last name?\")\n",
    "    lastname_split = M_lastname[0:3]\n",
    "    print(\"Welcome! Your username is:\", firstname_split + lastname_split)\n",
    "    \n",
    "elif gender == \"female\":\n",
    "    F_firstname = input(\"What is your first name?\")\n",
    "    Fname_split = F_firstname[0:3]\n",
    "    F_lastname = input(\"What is your last name?\")\n",
    "    Lname_split = F_lastname[0:2]\n",
    "    print(\"Welcome! Your username is:\", Fname_split + Lname_split)\n",
    "    \n",
    "elif gender == \"other\":\n",
    "    O_firstname = input(\"What is your first name?\")\n",
    "    Oname_split = O_firstname[0:1]\n",
    "    O_lastname = input(\"What is your last name?\")\n",
    "    print(\"Welcome! Your username is:\", Oname_split + O_lastname)"
   ]
  },
  {
   "cell_type": "code",
   "execution_count": null,
   "metadata": {},
   "outputs": [],
   "source": []
  },
  {
   "cell_type": "code",
   "execution_count": null,
   "metadata": {},
   "outputs": [],
   "source": []
  }
 ],
 "metadata": {
  "kernelspec": {
   "display_name": "Python 3",
   "language": "python",
   "name": "python3"
  },
  "language_info": {
   "codemirror_mode": {
    "name": "ipython",
    "version": 3
   },
   "file_extension": ".py",
   "mimetype": "text/x-python",
   "name": "python",
   "nbconvert_exporter": "python",
   "pygments_lexer": "ipython3",
   "version": "3.5.2"
  }
 },
 "nbformat": 4,
 "nbformat_minor": 2
}
