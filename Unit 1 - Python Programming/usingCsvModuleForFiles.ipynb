{
 "cells": [
  {
   "cell_type": "markdown",
   "metadata": {},
   "source": [
    "# Using the CSV module for file I/O\n",
    "\n",
    "Python's **csv** module allows you to easily work with **comma separated values** in files\n",
    "\n",
    "CSV files are used to store a large number of variables – or data. They are incredibly simplified spreadsheets – think Excel – only the content is stored in plaintext.\n",
    "\n",
    "And the CSV module is a built-in function that allows Python to parse these types of files.\n",
    "\n",
    "\n",
    "[more info here](http://www.pythonforbeginners.com/systems-programming/using-the-csv-module-in-python/)\n",
    "\n",
    "\n"
   ]
  },
  {
   "cell_type": "markdown",
   "metadata": {},
   "source": [
    "# A csv file\n",
    "\n",
    "The file this sample notebook works with is called **students.csv**\n",
    "\n",
    "Remember the file needs to be in the same folder as the python program in order to access it.\n",
    "\n",
    "You should always use a try/except block around file I/O as missing files or incorrectly named files will result in your program crashing (```  FileNotFound ``` exception) \n",
    "\n",
    "The file looks like this:\n",
    "```\n",
    "Fred,23,34,56\n",
    "Joe,99,45,56\n",
    "Jane,65,34,57\n",
    "Gigi,77,99,12\n",
    "Karla,76,84,45\n",
    "```"
   ]
  },
  {
   "cell_type": "code",
   "execution_count": 3,
   "metadata": {},
   "outputs": [
    {
     "name": "stdout",
     "output_type": "stream",
     "text": [
      "[['Fred', '23', '34', '56'], ['Joe', '99', '45', '56'], ['Jane', '65', '34', '57'], ['Gigi', '77', '99', '12'], ['Karla', '76', '84', '45']]\n"
     ]
    }
   ],
   "source": [
    "#import the csv module\n",
    "import csv\n",
    "\n",
    "#functions\n",
    "\n",
    "#This function opens the file for reading and reads the file contents into a List of list of Strings. \n",
    "#This list is returned to the calling program\n",
    "\n",
    "#import the csv module\n",
    "import csv\n",
    "\n",
    "#functions\n",
    "def openFileRead(filename):\n",
    "    dataList = []\n",
    "    with open(filename) as file:\n",
    "        r = csv.reader(file)\n",
    "        for i in r:\n",
    "            dataList.append(i)        \n",
    "    return dataList\n",
    "\n",
    "\n",
    "studentDataList = openFileRead(\"students.csv\")\n",
    "print(studentDataList)"
   ]
  },
  {
   "cell_type": "code",
   "execution_count": 4,
   "metadata": {},
   "outputs": [
    {
     "name": "stdout",
     "output_type": "stream",
     "text": [
      "Name\tMaths\tEng\tSci \n",
      " ------------------------------\n",
      "Fred\t23\t34\t56\t\n",
      "Joe\t99\t45\t56\t\n",
      "Jane\t65\t34\t57\t\n",
      "Gigi\t77\t99\t12\t\n",
      "Karla\t76\t84\t45\t\n"
     ]
    }
   ],
   "source": [
    "# this function takes as its parameters a list of list (of strings) \n",
    "# and a heading (as a string)\n",
    "# and prints the data in a user friendly table\n",
    "def printData(dataList, headings):\n",
    "    print(headings, '\\n', '-'*30)\n",
    "    for i in dataList:\n",
    "        for j in i:\n",
    "            print(j, end=\"\\t\")\n",
    "        print()\n",
    "        \n",
    "printData(studentDataList, \"Name\\tMaths\\tEng\\tSci\")"
   ]
  },
  {
   "cell_type": "code",
   "execution_count": 5,
   "metadata": {},
   "outputs": [
    {
     "name": "stdout",
     "output_type": "stream",
     "text": [
      "[37.67, 66.67, 52.0, 62.67, 68.33]\n"
     ]
    }
   ],
   "source": [
    "#this function takes a list of lists (of strings) and calculates the students average grade\n",
    "#this new data is stored in a new list of lists which is returned to the calling function\n",
    "def calulateAve(dataList):\n",
    "    newDataList=[]\n",
    "    for i in range(len(dataList)):\n",
    "        score = 0\n",
    "        for j in range(len(dataList[i]) - 1):\n",
    "            score += int(dataList[i][j+1])\n",
    "        newDataList.append(round(score / 3, 2))\n",
    "    return newDataList\n",
    "\n",
    "aveStudentData = calulateAve(studentDataList)\n",
    "print(aveStudentData) #debug\n"
   ]
  },
  {
   "cell_type": "code",
   "execution_count": 6,
   "metadata": {},
   "outputs": [
    {
     "name": "stdout",
     "output_type": "stream",
     "text": [
      "Name\tMaths\tEng\tSci\tAve \n",
      " ------------------------------\n",
      "Fred\t23\t34\t56\t37.67\t\n",
      "Joe\t99\t45\t56\t66.67\t\n",
      "Jane\t65\t34\t57\t52.0\t\n",
      "Gigi\t77\t99\t12\t62.67\t\n",
      "Karla\t76\t84\t45\t68.33\t\n"
     ]
    }
   ],
   "source": [
    "# now print this new list out nicely\n",
    "\n",
    "for i in range(len(studentDataList)):\n",
    "    studentDataList[i].append(aveStudentData[i])\n",
    "printData(studentDataList, \"Name\\tMaths\\tEng\\tSci\\tAve\")"
   ]
  },
  {
   "cell_type": "code",
   "execution_count": 10,
   "metadata": {},
   "outputs": [
    {
     "ename": "NameError",
     "evalue": "name 'st' is not defined",
     "output_type": "error",
     "traceback": [
      "\u001b[0;31m---------------------------------------------------------------------------\u001b[0m",
      "\u001b[0;31mNameError\u001b[0m                                 Traceback (most recent call last)",
      "\u001b[0;32m<ipython-input-10-dc357eb908d1>\u001b[0m in \u001b[0;36m<module>\u001b[0;34m()\u001b[0m\n\u001b[1;32m      5\u001b[0m         \u001b[0mwrite\u001b[0m\u001b[0;34m.\u001b[0m\u001b[0mwriterows\u001b[0m\u001b[0;34m(\u001b[0m\u001b[0mst\u001b[0m\u001b[0;34m)\u001b[0m\u001b[0;34m\u001b[0m\u001b[0m\n\u001b[1;32m      6\u001b[0m \u001b[0;34m\u001b[0m\u001b[0m\n\u001b[0;32m----> 7\u001b[0;31m \u001b[0mwrite2DListDataToFile\u001b[0m\u001b[0;34m(\u001b[0m\u001b[0maveStudentData\u001b[0m\u001b[0;34m)\u001b[0m\u001b[0;34m\u001b[0m\u001b[0m\n\u001b[0m\u001b[1;32m      8\u001b[0m \u001b[0;31m# now go a find the file that has been created in your folder\u001b[0m\u001b[0;34m\u001b[0m\u001b[0;34m\u001b[0m\u001b[0m\n",
      "\u001b[0;32m<ipython-input-10-dc357eb908d1>\u001b[0m in \u001b[0;36mwrite2DListDataToFile\u001b[0;34m(twoDList)\u001b[0m\n\u001b[1;32m      3\u001b[0m     \u001b[0;32mwith\u001b[0m \u001b[0mopen\u001b[0m\u001b[0;34m(\u001b[0m\u001b[0;34m\"students.csv\"\u001b[0m\u001b[0;34m,\u001b[0m \u001b[0;34m\"w\"\u001b[0m\u001b[0;34m)\u001b[0m \u001b[0;32mas\u001b[0m \u001b[0mf\u001b[0m\u001b[0;34m:\u001b[0m\u001b[0;34m\u001b[0m\u001b[0m\n\u001b[1;32m      4\u001b[0m         \u001b[0mwrite\u001b[0m \u001b[0;34m=\u001b[0m \u001b[0mcsv\u001b[0m\u001b[0;34m.\u001b[0m\u001b[0mwriter\u001b[0m\u001b[0;34m(\u001b[0m\u001b[0mf\u001b[0m\u001b[0;34m)\u001b[0m\u001b[0;34m\u001b[0m\u001b[0m\n\u001b[0;32m----> 5\u001b[0;31m         \u001b[0mwrite\u001b[0m\u001b[0;34m.\u001b[0m\u001b[0mwriterows\u001b[0m\u001b[0;34m(\u001b[0m\u001b[0mst\u001b[0m\u001b[0;34m)\u001b[0m\u001b[0;34m\u001b[0m\u001b[0m\n\u001b[0m\u001b[1;32m      6\u001b[0m \u001b[0;34m\u001b[0m\u001b[0m\n\u001b[1;32m      7\u001b[0m \u001b[0mwrite2DListDataToFile\u001b[0m\u001b[0;34m(\u001b[0m\u001b[0maveStudentData\u001b[0m\u001b[0;34m)\u001b[0m\u001b[0;34m\u001b[0m\u001b[0m\n",
      "\u001b[0;31mNameError\u001b[0m: name 'st' is not defined"
     ]
    }
   ],
   "source": [
    "#this function writes a list of lists to a file (as a csv)\n",
    "def write2DListDataToFile(twoDList):\n",
    "    with open(\"students.csv\", \"w\") as f:\n",
    "        write = csv.writer(f)\n",
    "        write.writerows(st)\n",
    "\n",
    "write2DListDataToFile(aveStudentData) \n",
    "# now go a find the file that has been created in your folder"
   ]
  },
  {
   "cell_type": "code",
   "execution_count": null,
   "metadata": {},
   "outputs": [],
   "source": []
  }
 ],
 "metadata": {
  "kernelspec": {
   "display_name": "Python 3",
   "language": "python",
   "name": "python3"
  },
  "language_info": {
   "codemirror_mode": {
    "name": "ipython",
    "version": 3
   },
   "file_extension": ".py",
   "mimetype": "text/x-python",
   "name": "python",
   "nbconvert_exporter": "python",
   "pygments_lexer": "ipython3",
   "version": "3.5.2"
  }
 },
 "nbformat": 4,
 "nbformat_minor": 2
}
